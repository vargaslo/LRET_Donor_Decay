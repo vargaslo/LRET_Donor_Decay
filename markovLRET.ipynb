{
 "metadata": {
  "name": ""
 },
 "nbformat": 3,
 "nbformat_minor": 0,
 "worksheets": [
  {
   "cells": [
    {
     "cell_type": "markdown",
     "metadata": {},
     "source": [
      "# Import libraries"
     ]
    },
    {
     "cell_type": "code",
     "collapsed": false,
     "input": [
      "import matplotlib.pyplot as plt\n",
      "import numpy as np\n",
      "import random\n",
      "import scipy.optimize as opt\n",
      "import time\n",
      "import datetime\n",
      "\n",
      "%matplotlib inline"
     ],
     "language": "python",
     "metadata": {},
     "outputs": [],
     "prompt_number": 4
    },
    {
     "cell_type": "markdown",
     "metadata": {},
     "source": [
      "# Define binary search algorithm"
     ]
    },
    {
     "cell_type": "code",
     "collapsed": false,
     "input": [
      "# Binary search algorithm\n",
      "# http://stackoverflow.com/questions/212358/binary-search-in-python\n",
      "\n",
      "from bisect import bisect_left\n",
      "from bisect import bisect_right\n",
      "\n",
      "\n",
      "def binary_search(a, x, lo=0, hi=None):   # can't use a to specify default for hi\n",
      "    hi = hi if hi is not None else len(a) # hi defaults to len(a)   \n",
      "    pos = bisect_left(a,x,lo,hi)          # half-open intervals (c1, c2]\n",
      "    return (pos if pos != hi else -1)     # don't walk off the end\n",
      "\n",
      "\n",
      "def hist_bin_search(a, x, lo=0, hi=None):  # 'a' should be a list of bin_edges\n",
      "    if x == a[-1]:\n",
      "        return len(a)-2                       # include max value in last bin\n",
      "    else:\n",
      "        hi = hi if hi is not None else len(a) # hi defaults to len(a)   \n",
      "        pos = bisect_right(a,x,lo,hi)         # half-open intervals [c1, c2)\n",
      "        return (pos-1 if pos != hi else -1)   # don't walk off the end\n"
     ],
     "language": "python",
     "metadata": {},
     "outputs": [],
     "prompt_number": 5
    },
    {
     "cell_type": "markdown",
     "metadata": {},
     "source": [
      "# Input kinetic rates\n",
      "\n",
      "$\\tau_{D}^{0} \\approx .00247 s$ (LBT)\n",
      "\n",
      "$\\tau_{D}^{0} \\approx .00207 s$ (chelate)\n",
      "\n",
      "$\\tau_{DA}$\n",
      "\n",
      "$\\tau_{A}^{0} \\approx 1/1e8$\n"
     ]
    },
    {
     "cell_type": "code",
     "collapsed": false,
     "input": [
      "kT1=225\n",
      "kT2=600\n",
      "kT3=1200\n",
      "kT4=4000\n",
      "\n",
      "kd=417\n",
      "ka=1e8\n",
      "\n",
      "kd1 = kd\n",
      "kd2 = kd\n",
      "kd3 = kd\n",
      "kd4 = kd\n",
      "\n",
      "# ms\n",
      "tau1 = 0.65\n",
      "tau2 = 1.52\n",
      "tau3 = 1.52\n",
      "tau4 = 1.86\n",
      "\n",
      "kT1 = 1000./tau1 - kd1\n",
      "kT2 = 1000./tau2 - kd2\n",
      "kT3 = 1000./tau3 - kd3\n",
      "kT4 = 1000./tau4 - kd4\n",
      "\n",
      "print 'kT rates %s %s %s %s' % (kT1, kT2, kT3, kT4)"
     ],
     "language": "python",
     "metadata": {},
     "outputs": [
      {
       "output_type": "stream",
       "stream": "stdout",
       "text": [
        "kT rates 1121.46153846 240.894736842 240.894736842 120.634408602\n"
       ]
      }
     ],
     "prompt_number": 6
    },
    {
     "cell_type": "markdown",
     "metadata": {},
     "source": [
      "# Generate random sequence of transitions"
     ]
    },
    {
     "cell_type": "code",
     "collapsed": false,
     "input": [
      "def get_transition_time(markov_state):\n",
      "    \n",
      "    #----------------------------------------\n",
      "    # Get the list of rates available to the markov model\n",
      "    # Loop over each donor to accumulate all outgoing rates\n",
      "    rlist = []\n",
      "    for i in range(4):\n",
      "        position = i+1\n",
      "    \n",
      "        # If donor is in excited state, it may decay to ground state\n",
      "        if markov_state[i]=='D*':\n",
      "            rate = 'kd%s' % (position)\n",
      "            rlist.append(rate)\n",
      "            \n",
      "            # If acceptor is not occupied, donor may transfer to acceptor\n",
      "            if 'A*' not in markov_state:\n",
      "                rate = 'kT%s' % (position)\n",
      "                rlist.append(rate)\n",
      "            \n",
      "        # If acceptor is in excited state, it may decay to ground state\n",
      "        if markov_state[i]=='A*':\n",
      "            rate = 'ka'\n",
      "            rlist.append(rate)\n",
      "\n",
      "    #print rlist\n",
      "    #----------------------------------------\n",
      "\n",
      "    # list of rates converted to numeric\n",
      "    rlistN = [eval(rate) for rate in rlist]\n",
      "\n",
      "    Ri = np.cumsum(rlistN)\n",
      "    RN = Ri[-1]\n",
      "    \n",
      "    # Pick a time\n",
      "    u = 1 - np.random.uniform()\n",
      "    dt = np.log(1/u)/RN\n",
      "    \n",
      "    # Pick a transition ... use half-bound intervals (a, b]\n",
      "    u = 1 - np.random.uniform()\n",
      "    which = binary_search(Ri, u * RN)\n",
      "    \n",
      "    out = rlist[which]\n",
      "    # Select the transition from the list\n",
      "    #out = info[which]\n",
      "\n",
      "    return dt, out\n"
     ],
     "language": "python",
     "metadata": {},
     "outputs": [],
     "prompt_number": 7
    },
    {
     "cell_type": "code",
     "collapsed": false,
     "input": [
      "# Number of events to simulate\n",
      "num=1e6\n",
      "\n",
      "\n",
      "# This is the main loop\n",
      "out_A = []\n",
      "tic=time.time()\n",
      "histogram_bin_edges = np.arange(0, .1, 1e-6)\n",
      "histogram_bin_centers = 0.5 * (histogram_bin_edges + np.roll(histogram_bin_edges, -1))[0:-1]\n",
      "histogram = np.zeros(len(histogram_bin_edges) - 1)\n",
      "\n",
      "\n",
      "def simulate_LRET():\n",
      "\n",
      "    for i in range(int(num)):\n",
      "\n",
      "        if (i % (num/10.) == 0):\n",
      "            toc = time.time()\n",
      "            tictoc = int(toc - tic)\n",
      "            tocstr = str(datetime.timedelta(seconds=tictoc))\n",
      "            print '%s s --- %d/100' % (tocstr, (1.*i/num*100.))\n",
      "\n",
      "    \n",
      "        state = ['D*','D*','D*','D*']\n",
      "        t = 0\n",
      "        for i in range(9):  # There are a maximum of 8 transitions for 4 donors\n",
      "\n",
      "            #print \"\\nCurrent State - step %s\" % i\n",
      "            #print state\n",
      "    \n",
      "            if ('D*' in state) or ('A*' in state):\n",
      "                dt, w = get_transition_time(state)\n",
      "            \n",
      "                t = t+dt\n",
      "\n",
      "                # Loop over each donor\n",
      "                # Modify the current state to reflect the transition\n",
      "                rate = w\n",
      "                if rate == 'ka':\n",
      "                    state[state.index('A*')] = 'A'\n",
      "                \n",
      "                    # Output list of transition times\n",
      "                    # out_A.append(t)\n",
      "                    # Or build histogram on the fly?\n",
      "                    bin_index = hist_bin_search(histogram_bin_edges, t)\n",
      "                    histogram[bin_index] += 1\n",
      "\n",
      "                for i in range(4):\n",
      "                    if (rate == 'kT%s' % (i+1)):\n",
      "                        state[i] = 'A*'\n",
      "                    if (rate == 'kd%s' % (i+1)):\n",
      "                        state[i] = 'D'\n",
      "            else:\n",
      "                break\n",
      "\n",
      "    print 'Done!'\n",
      "\n",
      "# This can be split into separate processes\n",
      "simulate_LRET()"
     ],
     "language": "python",
     "metadata": {},
     "outputs": [
      {
       "output_type": "stream",
       "stream": "stdout",
       "text": [
        "0:00:00 s --- 0/100\n",
        "0:00:28 s --- 10/100"
       ]
      },
      {
       "output_type": "stream",
       "stream": "stdout",
       "text": [
        "\n",
        "0:00:56 s --- 20/100"
       ]
      },
      {
       "output_type": "stream",
       "stream": "stdout",
       "text": [
        "\n",
        "0:01:24 s --- 30/100"
       ]
      },
      {
       "output_type": "stream",
       "stream": "stdout",
       "text": [
        "\n",
        "0:01:53 s --- 40/100"
       ]
      },
      {
       "output_type": "stream",
       "stream": "stdout",
       "text": [
        "\n",
        "0:02:21 s --- 50/100"
       ]
      },
      {
       "output_type": "stream",
       "stream": "stdout",
       "text": [
        "\n",
        "0:02:49 s --- 60/100"
       ]
      },
      {
       "output_type": "stream",
       "stream": "stdout",
       "text": [
        "\n",
        "0:03:18 s --- 70/100"
       ]
      },
      {
       "output_type": "stream",
       "stream": "stdout",
       "text": [
        "\n",
        "0:03:46 s --- 80/100"
       ]
      },
      {
       "output_type": "stream",
       "stream": "stdout",
       "text": [
        "\n",
        "0:04:14 s --- 90/100"
       ]
      },
      {
       "output_type": "stream",
       "stream": "stdout",
       "text": [
        "\n",
        "Done!"
       ]
      },
      {
       "output_type": "stream",
       "stream": "stdout",
       "text": [
        "\n"
       ]
      }
     ],
     "prompt_number": 8
    },
    {
     "cell_type": "markdown",
     "metadata": {},
     "source": [
      "# Show histogram of A* to A transitions"
     ]
    },
    {
     "cell_type": "code",
     "collapsed": false,
     "input": [
      "plt.semilogy(histogram_bin_centers[histogram>0], histogram[histogram>0], '.')"
     ],
     "language": "python",
     "metadata": {},
     "outputs": [
      {
       "metadata": {},
       "output_type": "pyout",
       "prompt_number": 9,
       "text": [
        "[<matplotlib.lines.Line2D at 0x7fd980786150>]"
       ]
      },
      {
       "metadata": {},
       "output_type": "display_data",
       "png": "[encoded data removed]",
       "text": [
        "<matplotlib.figure.Figure at 0x7fd9807a3890>"
       ]
      }
     ],
     "prompt_number": 9
    },
    {
     "cell_type": "markdown",
     "metadata": {},
     "source": [
      "# Optional write to file"
     ]
    },
    {
     "cell_type": "code",
     "collapsed": false,
     "input": [
      "if 0:\n",
      "    import pandas as pd\n",
      "    fname = 'markov_transitions_num_%s.txt' % (int(num))\n",
      "    print fname\n",
      "\n",
      "    with open (fname, 'w') as f:\n",
      "        f.write('# kinetic rates used [1/s]: \\n')\n",
      "        f.write('# kT1: %s\\n' % kT1)\n",
      "        f.write('# kT2: %s\\n' % kT2)\n",
      "        f.write('# kT3: %s\\n' % kT3)\n",
      "        f.write('# kT4: %s\\n' % kT4)\n",
      "        f.write('# kd: %s\\n' % kd)\n",
      "        f.write('# ka: %s\\n' % ka)\n",
      "        f.write('\\n')\n",
      "\n",
      "        f.write('# Corresponding time constants [ms]: \\n')\n",
      "        f.write('# tau_SE1: %s\\n' % (1000./(kd+kT1)))\n",
      "        f.write('# tau_SE2: %s\\n' % (1000./(kd+kT2)))\n",
      "        f.write('# tau_SE3: %s\\n' % (1000./(kd+kT3)))\n",
      "        f.write('# tau_SE4: %s\\n' % (1000./(kd+kT4)))\n",
      "        f.write('# tau_d: %s\\n' % (1000./kd))\n",
      "        f.write('# tau_a: %s\\n' % (1000./ka))\n",
      "        f.write('\\n')\n",
      "        \n",
      "        \n",
      "    d = {'Bin Center': pd.Series(histogram_bin_centers),\n",
      "         'Counts': pd.Series(histogram)}\n",
      "    df = pd.DataFrame(d)\n",
      "    df.to_csv(fname, mode='a')\n",
      "\n",
      "    \n",
      "if 1:\n",
      "    #import csv\n",
      "    filename = 'markov_transitions_num_10000000.txt'\n",
      "    # Get these values from the file header!\n",
      "    num = 10000000\n",
      "    kT1= 225\n",
      "    kT2= 600\n",
      "    kT3= 1200\n",
      "    kT4= 4000\n",
      "    kd= 400\n",
      "    ka= 100000000.0\n",
      "    imported_data = np.genfromtxt(filename, skip_header=17, delimiter=',')\n",
      "    histogram = imported_data[:, 2]\n",
      "    histogram_bin_centers = imported_data[:, 1]\n",
      "\n",
      "\n",
      "print \"There are %s transitions to the A state\" % int(np.cumsum(histogram)[-1])\n"
     ],
     "language": "python",
     "metadata": {},
     "outputs": [
      {
       "output_type": "stream",
       "stream": "stdout",
       "text": [
        "There are 26191727 transitions to the A state\n"
       ]
      }
     ],
     "prompt_number": 56
    },
    {
     "cell_type": "markdown",
     "metadata": {},
     "source": [
      "# Obtain histogram of data (not currently used)"
     ]
    },
    {
     "cell_type": "code",
     "collapsed": false,
     "input": [
      "if 0:\n",
      "    %matplotlib inline\n",
      "\n",
      "    # Histogram\n",
      "    # Get bin edges\n",
      "    bin_spacing = 1e-6\n",
      "    print \"Bin spacing is %s seconds\" % bin_spacing\n",
      "    bins = np.arange(0., max(out_A), bin_spacing)\n",
      "    hist, bin_edges = np.histogram(out_A, bins=bins)\n",
      "    bin_centers = 0.5 * (bin_edges + np.roll(bin_edges, -1))[0:-1]\n",
      "    #print bin_edges - np.roll(bin_edges, 1)\n",
      "\n",
      "    plt.figure()\n",
      "    plt.hist(out_A, bins=bins)\n",
      "    plt.plot(bin_centers, hist, lw=1, c='r')\n",
      "    plt.ylabel('Occupancy of A*', size=18)\n",
      "    plt.xlabel('Time(s)', size=18)\n",
      "\n",
      "    plt.figure()\n",
      "    plt.semilogy(bin_centers, hist, '.', lw=1, c='r')\n",
      "    plt.ylabel('Occupancy of A*', size=18)\n",
      "    plt.xlabel('Time(s)', size=18)\n",
      "\n",
      "if 0:  # untested\n",
      "    # requires python-sklearn\n",
      "    from sklearn.neighbors import KernelDensity\n",
      "    \n",
      "    # Define the kernel\n",
      "    kernel = KernelDensity(kernel='linear', bandwidth=1e-6)\n",
      "    kde = kernel.fit(np.array(out_A)[:, np.newaxis])\n",
      "    log_dens = kde.score_samples(np.array(bin_centers)[:, np.newaxis])\n",
      "    plt.plot(bin_centers, np.exp(log_dens), lw=4, c='y')\n",
      "\n",
      "if 0: ## untested\n",
      "    from scipy.stats.kde import gaussian_kde\n",
      "    my_pdf = gaussian_kde(out_A, bw_method=.00001)\n",
      "    testx = np.arange(0,.005,1e-6)\n",
      "    testy = my_pdf(testx)\n",
      "    plt.plot(testx, testy, 'g')"
     ],
     "language": "python",
     "metadata": {},
     "outputs": [],
     "prompt_number": 57
    },
    {
     "cell_type": "markdown",
     "metadata": {},
     "source": [
      "# Fit histogram data to model function"
     ]
    },
    {
     "cell_type": "code",
     "collapsed": false,
     "input": [
      "# Fit to model function\n",
      "def func0(x, a1):\n",
      "    delta_t = 1e-6  # bin width of histogram data\n",
      "    # a1 = 1\n",
      "    y = ((num * delta_t * a1) * \n",
      "         (kT1 * np.exp(-(kT1 + kd1) * x) + \n",
      "          kT2 * np.exp(-(kT2 + kd2) * x) +\n",
      "          kT3 * np.exp(-(kT3 + kd3) * x) +\n",
      "          kT4 * np.exp(-(kT4 + kd4) * x)))\n",
      "    return y\n",
      "\n",
      "def func1(x, a1, r1, r2, r3, r4):\n",
      "    delta_t = 1e-6  # bin width of histogram data\n",
      "    y = ((num * delta_t * a1) * \n",
      "         (r1 * np.exp(-(r1 + kd1) * x) + \n",
      "          r2 * np.exp(-(r2 + kd2) * x) +\n",
      "          r3 * np.exp(-(r3 + kd3) * x) +\n",
      "          r4 * np.exp(-(r4 + kd4) * x)))\n",
      "    return y\n",
      "\n",
      "\n",
      "func_labels = {'func0': 'Heyduk Equation - Actual Values',\n",
      "               'func1': 'Heyduk Fit - Fitted Values'}\n"
     ],
     "language": "python",
     "metadata": {},
     "outputs": [],
     "prompt_number": 66
    },
    {
     "cell_type": "code",
     "collapsed": false,
     "input": [
      "%matplotlib auto \n",
      "\n",
      "\n",
      "\n",
      "# Get rid of data bins where there is no data\n",
      "ydata = histogram\n",
      "xdata = histogram_bin_centers\n",
      "\n",
      "\n",
      "# Change this to exclude data at long time points\n",
      "if 1:\n",
      "    maxtime = .008\n",
      "    ydata = ydata[xdata<maxtime]\n",
      "    xdata = xdata[xdata<maxtime]\n",
      "\n",
      "\n",
      "\n",
      "# TO PLOT CURVE FITS\n",
      "plt.figure('fits', figsize=(8,4))\n",
      "plt.semilogy(1000*xdata, ydata, '.k')\n",
      "\n",
      "# TO PLOT RESIDUALS\n",
      "plt.figure('residuals', figsize=(8,4))\n",
      "\n",
      "for i in [0, 1]:\n",
      "    \n",
      "    # Fit curve to data\n",
      "    funcstr = 'func'+str(i)\n",
      "    label = func_labels[funcstr]\n",
      "    func = eval(funcstr)\n",
      "    popt, pcov = opt.curve_fit(func, xdata[ydata>0], ydata[ydata>0], sigma=np.sqrt(ydata[ydata>0]))\n",
      "    fitted = func(xdata, *popt)\n",
      "    \n",
      "    print \"\\n%s: %s\" % (label, popt)\n",
      "\n",
      "    plt.figure('fits')\n",
      "    plt.semilogy(1000*xdata, fitted, label=label, lw=2)\n",
      "    \n",
      "    # PLOT THE RESIDUALS\n",
      "    if 1:\n",
      "        plt.figure('residuals')\n",
      "        plt.plot(1000*xdata[ydata>0], (ydata[ydata>0] - fitted[ydata>0])/np.sqrt(ydata[ydata>0]), label=label)\n",
      "        plt.plot(1000*xdata[ydata>0], 5*(i+1)+(ydata[ydata>0] - fitted[ydata>0])/np.sqrt(ydata[ydata>0]), label=label)\n",
      "        plt.axhline(5*(i+1), c='k')\n",
      "#        plt.plot(xdata[ydata>0], (ydata[ydata>0] - fitted[ydata>0]), label=label)\n",
      "        print np.sqrt(np.sum((ydata[ydata>0] - fitted[ydata>0])**2/(ydata[ydata>0])))\n",
      "\n",
      "    \n",
      "\n",
      "# PLOT PREFERENCES\n",
      "plt.figure('fits')\n",
      "plt.ylabel('Normalized Occupancy A*', size=14)\n",
      "plt.legend()\n",
      "\n",
      "plt.figure('residuals')\n",
      "plt.axhline(0, c='k')\n",
      "plt.xlabel('Time (ms)', size=14)\n",
      "plt.ylabel('Weighted Residuals', size=14)\n",
      "plt.legend()\n",
      "\n",
      "print kT1,kT2,kT3,kT4"
     ],
     "language": "python",
     "metadata": {},
     "outputs": [
      {
       "output_type": "stream",
       "stream": "stdout",
       "text": [
        "Using matplotlib backend: TkAgg\n",
        "\n",
        "Heyduk Equation - Actual Values: [ 1.01131805]"
       ]
      },
      {
       "output_type": "stream",
       "stream": "stdout",
       "text": [
        "\n",
        "116.376587655\n",
        "\n",
        "Heyduk Fit - Fitted Values: [  1.02583384e+00   5.59624985e+02   1.15593020e+03   3.93530550e+03\n",
        "   2.14955839e+02]"
       ]
      },
      {
       "output_type": "stream",
       "stream": "stdout",
       "text": [
        "\n",
        "90.5205977267\n",
        "225 600 1200 4000\n"
       ]
      }
     ],
     "prompt_number": 67
    },
    {
     "cell_type": "code",
     "collapsed": false,
     "input": [],
     "language": "python",
     "metadata": {},
     "outputs": [],
     "prompt_number": 49
    },
    {
     "cell_type": "code",
     "collapsed": false,
     "input": [],
     "language": "python",
     "metadata": {},
     "outputs": []
    }
   ],
   "metadata": {}
  }
 ]
}